{
 "cells": [
  {
   "cell_type": "markdown",
   "id": "c8297c29",
   "metadata": {},
   "source": [
    "## Use `svgwrite` to get the logo"
   ]
  },
  {
   "cell_type": "code",
   "execution_count": 1,
   "id": "3a13ff68",
   "metadata": {},
   "outputs": [],
   "source": [
    "import svgwrite"
   ]
  },
  {
   "cell_type": "markdown",
   "id": "62189bdd",
   "metadata": {},
   "source": [
    "## Get the object to draw"
   ]
  },
  {
   "cell_type": "code",
   "execution_count": 2,
   "id": "2a40d0ac",
   "metadata": {},
   "outputs": [],
   "source": [
    "width = 36\n",
    "height = 18"
   ]
  },
  {
   "cell_type": "code",
   "execution_count": 3,
   "id": "97cd8eae",
   "metadata": {},
   "outputs": [],
   "source": [
    "dwg = svgwrite.Drawing('ACMHomepage.svg', profile='tiny')"
   ]
  },
  {
   "cell_type": "markdown",
   "id": "20e3d3d6",
   "metadata": {},
   "source": [
    "## Add paths to the group `main`"
   ]
  },
  {
   "cell_type": "code",
   "execution_count": 4,
   "id": "179e5d8a",
   "metadata": {},
   "outputs": [],
   "source": [
    "class MyPathCommand:\n",
    "    def __init__(self, fun):\n",
    "        self.fun = fun\n",
    "        \n",
    "    def exec(self, scale):\n",
    "        unrounded_result = self.fun(scale)\n",
    "        result = []\n",
    "        for i in unrounded_result:\n",
    "            if type(i) == float:\n",
    "                result.append(round(i, 2))\n",
    "            else:\n",
    "                result.append(i)\n",
    "        return tuple(result)\n",
    "\n",
    "class MyPath:\n",
    "    def __init__(self, value = [], scale = 1):\n",
    "        self.value = []\n",
    "        for i in value:\n",
    "            self._add_command(lambda scale: i)\n",
    "        self.scale = scale\n",
    "        \n",
    "    def _add_command(self, fun):\n",
    "        self.value.append(MyPathCommand(fun))\n",
    "        \n",
    "    def set_scale(self, new_scale):\n",
    "        new_path = MyPath()\n",
    "        new_path.value = self.value\n",
    "        new_path.scale = new_scale\n",
    "        return new_path\n",
    "        \n",
    "    def v(self, length):\n",
    "        self._add_command(lambda scale: ('v', length * scale))\n",
    "        return self\n",
    "        \n",
    "    def h(self, length):\n",
    "        self._add_command(lambda scale: ('h', length * scale))\n",
    "        return self\n",
    "        \n",
    "    def l(self, x, y):\n",
    "        self._add_command(lambda scale: ('l', x * scale, y * scale))\n",
    "        return self\n",
    "    \n",
    "    def m(self, x, y):\n",
    "        self._add_command(lambda scale: ('m', x * scale, y * scale))\n",
    "        return self\n",
    "        \n",
    "    def ar(self, r, dir, x, y):\n",
    "        self._add_command(lambda scale: ('a', r* scale, r * scale, 0, 0, dir, x * scale, y * scale))\n",
    "        return self\n",
    "    \n",
    "    def z(self):\n",
    "        self._add_command(lambda scale: ('z',))\n",
    "        return self\n",
    "    \n",
    "    def cat(self, other):\n",
    "        assert(self.scale == other.scale)\n",
    "        self.value.extend(other.value)\n",
    "        return self\n",
    "    \n",
    "    def get_path(self):\n",
    "        result = []\n",
    "        for i in self.value:\n",
    "            result.append(i.exec(self.scale))\n",
    "        return dwg.path(result)\n",
    "    \n",
    "    def __str__(self):\n",
    "        return str(self.get_path().get_xml())"
   ]
  },
  {
   "cell_type": "code",
   "execution_count": 5,
   "id": "b165ba66",
   "metadata": {},
   "outputs": [],
   "source": [
    "h1 = 1.2\n",
    "\n",
    "v2 = 6\n",
    "vh = 9\n",
    "\n",
    "k1x = 2.8\n",
    "k1y = 6\n",
    "k2x = 1\n",
    "k2y = 4\n",
    "\n",
    "r2 = 2.6\n",
    "R2 = r2 * 2\n",
    "r1 = r2 - h1\n",
    "R1 = r1 * 2"
   ]
  },
  {
   "cell_type": "code",
   "execution_count": 6,
   "id": "2db7b79e",
   "metadata": {},
   "outputs": [],
   "source": [
    "# util\n",
    "up_half = MyPath().v(-(vh - h1) / 2)\n",
    "down_half = MyPath().v((vh - h1) / 2)\n",
    "\n",
    "# The A\n",
    "A_path = MyPath().h(h1).l(k1x, -k1y).v(v2).h(h1).v(-vh).h(-h1).z();\n",
    "\n",
    "# The C\n",
    "C_path = (MyPath().m(0, -r2)\n",
    "    .ar(r2, 0, R2, 0).h(-h1).ar(r1, 1, -R1, 0)\n",
    "    .v(-vh + R2)\n",
    "    .ar(r1, 1, R1, 0).h(h1).ar(r2, 0, -R2, 0)\n",
    "    .z())\n",
    "\n",
    "# The E\n",
    "E_path = MyPath().h(-R2 + h1).v(-(vh - 3 * h1) / 2).h(R2 - h1).v(-h1)\n",
    "E_path = MyPath().h(R2).v(-h1).cat(E_path).cat(E_path).h(-R2).z()\n",
    "\n",
    "# The G\n",
    "G_path = (MyPath()\n",
    "    .m(0, -r2).ar(r2, 0, r2, r2).h(r2).v(-r2 - h1)\n",
    "    .h(-h1).v(r2)\n",
    "    .h(-r2 + h1).ar(r1, 1, -r1, -r1)\n",
    "    .v(- vh + R2).ar(r1, 1, R1, 0)\n",
    "    .h(h1).ar(r2, 0, -R2, 0).z())\n",
    "\n",
    "# The H\n",
    "H_path = (MyPath()\n",
    "    .h(h1).cat(up_half).h(R2 -  2*h1).cat(down_half).h(h1)\n",
    "    .v(-vh)\n",
    "    .h(-h1).cat(down_half).h(-R2 +  2*h1).cat(up_half).h(-h1)\n",
    "    .z())\n",
    "\n",
    "# The M\n",
    "M_path = MyPath().h(h1).l(k2x, -k2y).v(k2y)\n",
    "M_path = M_path.cat(M_path).h(h1).v(-vh).h(-h1).l(-k2x, k2y).v(-k2y).h(-h1).z()\n",
    "\n",
    "# The O\n",
    "O_path = MyPath().m(0, -r2).ar(r2, 0, R2, 0).v(-vh + R2).ar(r2, 0, -R2, 0).z()\n",
    "\n",
    "# The P\n",
    "P_path = MyPath().h(h1).v(-vh + R2).h(r2 - h1).ar(r2, 0, 0, -R2).h(-r2).z()"
   ]
  },
  {
   "cell_type": "code",
   "execution_count": 12,
   "id": "146b871f",
   "metadata": {},
   "outputs": [],
   "source": [
    "sep = 1.5\n",
    "\n",
    "main = dwg.g(stroke=\"currentColor\", fill=\"currentColor\", stroke_width='.4', stroke_linecap=\"round\", stroke_linejoin=\"round\")\n",
    "\n",
    "x = 0\n",
    "main.add(MyPath([('M', x, 9)]).cat(A_path).get_path())\n",
    "\n",
    "x += 7.2\n",
    "main.add(MyPath([('M', x, 9)]).cat(C_path).get_path())\n",
    "\n",
    "x += (7.2 - 0.8)\n",
    "main.add(MyPath([('M', x, 9)]).cat(M_path).get_path())\n",
    "\n",
    "x = 0\n",
    "main.add(MyPath([('M', x, vh * 1.7 + sep)], 0.7).cat(H_path.set_scale(0.7)).get_path())\n",
    "\n",
    "x += 7.2 * 0.7\n",
    "main.add(MyPath([('M', x, vh * 1.7 + sep)], 0.7).cat(O_path.set_scale(0.7)).get_path())\n",
    "\n",
    "x += (7.2 - 0.8) * 0.7\n",
    "main.add(MyPath([('M', x, vh * 1.7 + sep)], 0.7).cat(M_path.set_scale(0.7)).get_path())\n",
    "\n",
    "x += (7.2 + 0.4) * 0.7\n",
    "main.add(MyPath([('M', x, vh * 1.7 + sep)], 0.7).cat(E_path.set_scale(0.7)).get_path())\n",
    "\n",
    "x += 7.2 * 0.7\n",
    "main.add(MyPath([('M', x, vh * 1.7 + sep)], 0.7).cat(P_path.set_scale(0.7)).get_path())\n",
    "\n",
    "x += (7.2 - 2.4) * 0.7\n",
    "main.add(MyPath([('M', x, vh * 1.7 + sep)], 0.7).cat(A_path.set_scale(0.7)).get_path())\n",
    "\n",
    "x += 7.2 * 0.7\n",
    "main.add(MyPath([('M', x, vh * 1.7 + sep)], 0.7).cat(G_path.set_scale(0.7)).get_path())\n",
    "\n",
    "x += 7.2 * 0.7\n",
    "main.add(MyPath([('M', x, vh * 1.7 + sep)], 0.7).cat(E_path.set_scale(0.7)).get_path())\n",
    "\n",
    "width = round(x + R2 * 0.7, 2)\n",
    "height = round(vh * 1.7 + sep, 2)"
   ]
  },
  {
   "cell_type": "markdown",
   "id": "07c54be2",
   "metadata": {},
   "source": [
    "## Add the two groups to the object, and show"
   ]
  },
  {
   "cell_type": "code",
   "execution_count": 13,
   "id": "395c00f5",
   "metadata": {},
   "outputs": [
    {
     "data": {
      "image/svg+xml": [
       "<g fill=\"currentColor\" stroke=\"currentColor\" stroke-linecap=\"round\" stroke-linejoin=\"round\" stroke-width=\".4\"><path d=\"M 0 9 h 1.2 l 2.8 -6 v 6 h 1.2 v -9 h -1.2 z\" /><path d=\"M 7.2 9 m 0 -2.6 a 2.6 2.6 0 0 0 5.2 0 h -1.2 a 1.4 1.4 0 0 1 -2.8 0 v -3.8 a 1.4 1.4 0 0 1 2.8 0 h 1.2 a 2.6 2.6 0 0 0 -5.2 0 z\" /><path d=\"M 13.6 9 h 1.2 l 1 -4 v 4 h 1.2 l 1 -4 v 4 h 1.2 v -9 h -1.2 l -1 4 v -4 h -1.2 z\" /><path d=\"M 0 16.8 h 0.84 v -2.73 h 1.96 v 2.73 h 0.84 v -6.3 h -0.84 v 2.73 h -1.96 v -2.73 h -0.84 z\" /><path d=\"M 5.04 16.8 m 0.0 -1.82 a 1.82 1.82 0 0 0 3.64 0.0 v -2.66 a 1.82 1.82 0 0 0 -3.64 0.0 z\" /><path d=\"M 9.52 16.8 h 0.84 l 0.7 -2.8 v 2.8 h 0.84 l 0.7 -2.8 v 2.8 h 0.84 v -6.3 h -0.84 l -0.7 2.8 v -2.8 h -0.84 z\" /><path d=\"M 14.84 16.8 h 3.64 v -0.84 h -2.8 v -1.89 h 2.8 v -0.84 h -2.8 v -1.89 h 2.8 v -0.84 h -3.64 z\" /><path d=\"M 19.88 16.8 h 0.84 v -2.66 h 0.98 a 1.82 1.82 0 0 0 0.0 -3.64 h -1.82 z\" /><path d=\"M 23.24 16.8 h 0.84 l 1.96 -4.2 v 4.2 h 0.84 v -6.3 h -0.84 z\" /><path d=\"M 28.28 16.8 m 0.0 -1.82 a 1.82 1.82 0 0 0 1.82 1.82 h 1.82 v -2.66 h -0.84 v 1.82 h -0.98 a 0.98 0.98 0 0 1 -0.98 -0.98 v -2.66 a 0.98 0.98 0 0 1 1.96 0.0 h 0.84 a 1.82 1.82 0 0 0 -3.64 0.0 z\" /><path d=\"M 33.32 16.8 h 3.64 v -0.84 h -2.8 v -1.89 h 2.8 v -0.84 h -2.8 v -1.89 h 2.8 v -0.84 h -3.64 z\" /></g>"
      ],
      "text/plain": [
       "<svgwrite.container.Group at 0x7f8a9c3d51b0>"
      ]
     },
     "execution_count": 13,
     "metadata": {},
     "output_type": "execute_result"
    }
   ],
   "source": [
    "dwg = svgwrite.Drawing('ACMHomepage.svg', profile='tiny')\n",
    "dwg.viewbox(-1, -1, width + 2, height + 2)\n",
    "dwg.add(main)"
   ]
  },
  {
   "cell_type": "code",
   "execution_count": 14,
   "id": "6705f1ef",
   "metadata": {},
   "outputs": [
    {
     "data": {
      "image/svg+xml": [
       "<svg baseProfile=\"tiny\" height=\"100%\" version=\"1.2\" viewBox=\"-1,-1,38.96,18.8\" width=\"100%\" xmlns=\"http://www.w3.org/2000/svg\" xmlns:ev=\"http://www.w3.org/2001/xml-events\" xmlns:xlink=\"http://www.w3.org/1999/xlink\"><defs /><g fill=\"currentColor\" stroke=\"currentColor\" stroke-linecap=\"round\" stroke-linejoin=\"round\" stroke-width=\".4\"><path d=\"M 0 9 h 1.2 l 2.8 -6 v 6 h 1.2 v -9 h -1.2 z\" /><path d=\"M 7.2 9 m 0 -2.6 a 2.6 2.6 0 0 0 5.2 0 h -1.2 a 1.4 1.4 0 0 1 -2.8 0 v -3.8 a 1.4 1.4 0 0 1 2.8 0 h 1.2 a 2.6 2.6 0 0 0 -5.2 0 z\" /><path d=\"M 13.6 9 h 1.2 l 1 -4 v 4 h 1.2 l 1 -4 v 4 h 1.2 v -9 h -1.2 l -1 4 v -4 h -1.2 z\" /><path d=\"M 0 16.8 h 0.84 v -2.73 h 1.96 v 2.73 h 0.84 v -6.3 h -0.84 v 2.73 h -1.96 v -2.73 h -0.84 z\" /><path d=\"M 5.04 16.8 m 0.0 -1.82 a 1.82 1.82 0 0 0 3.64 0.0 v -2.66 a 1.82 1.82 0 0 0 -3.64 0.0 z\" /><path d=\"M 9.52 16.8 h 0.84 l 0.7 -2.8 v 2.8 h 0.84 l 0.7 -2.8 v 2.8 h 0.84 v -6.3 h -0.84 l -0.7 2.8 v -2.8 h -0.84 z\" /><path d=\"M 14.84 16.8 h 3.64 v -0.84 h -2.8 v -1.89 h 2.8 v -0.84 h -2.8 v -1.89 h 2.8 v -0.84 h -3.64 z\" /><path d=\"M 19.88 16.8 h 0.84 v -2.66 h 0.98 a 1.82 1.82 0 0 0 0.0 -3.64 h -1.82 z\" /><path d=\"M 23.24 16.8 h 0.84 l 1.96 -4.2 v 4.2 h 0.84 v -6.3 h -0.84 z\" /><path d=\"M 28.28 16.8 m 0.0 -1.82 a 1.82 1.82 0 0 0 1.82 1.82 h 1.82 v -2.66 h -0.84 v 1.82 h -0.98 a 0.98 0.98 0 0 1 -0.98 -0.98 v -2.66 a 0.98 0.98 0 0 1 1.96 0.0 h 0.84 a 1.82 1.82 0 0 0 -3.64 0.0 z\" /><path d=\"M 33.32 16.8 h 3.64 v -0.84 h -2.8 v -1.89 h 2.8 v -0.84 h -2.8 v -1.89 h 2.8 v -0.84 h -3.64 z\" /></g></svg>"
      ],
      "text/plain": [
       "<svgwrite.drawing.Drawing at 0x7f8a9c3d6230>"
      ]
     },
     "execution_count": 14,
     "metadata": {},
     "output_type": "execute_result"
    }
   ],
   "source": [
    "dwg"
   ]
  },
  {
   "cell_type": "code",
   "execution_count": 15,
   "id": "010228bf",
   "metadata": {},
   "outputs": [
    {
     "data": {
      "text/plain": [
       "'<svg baseProfile=\"tiny\" height=\"100%\" version=\"1.2\" viewBox=\"-1,-1,38.96,18.8\" width=\"100%\" xmlns=\"http://www.w3.org/2000/svg\" xmlns:ev=\"http://www.w3.org/2001/xml-events\" xmlns:xlink=\"http://www.w3.org/1999/xlink\"><defs /><g fill=\"currentColor\" stroke=\"currentColor\" stroke-linecap=\"round\" stroke-linejoin=\"round\" stroke-width=\".4\"><path d=\"M 0 9 h 1.2 l 2.8 -6 v 6 h 1.2 v -9 h -1.2 z\" /><path d=\"M 7.2 9 m 0 -2.6 a 2.6 2.6 0 0 0 5.2 0 h -1.2 a 1.4 1.4 0 0 1 -2.8 0 v -3.8 a 1.4 1.4 0 0 1 2.8 0 h 1.2 a 2.6 2.6 0 0 0 -5.2 0 z\" /><path d=\"M 13.6 9 h 1.2 l 1 -4 v 4 h 1.2 l 1 -4 v 4 h 1.2 v -9 h -1.2 l -1 4 v -4 h -1.2 z\" /><path d=\"M 0 16.8 h 0.84 v -2.73 h 1.96 v 2.73 h 0.84 v -6.3 h -0.84 v 2.73 h -1.96 v -2.73 h -0.84 z\" /><path d=\"M 5.04 16.8 m 0.0 -1.82 a 1.82 1.82 0 0 0 3.64 0.0 v -2.66 a 1.82 1.82 0 0 0 -3.64 0.0 z\" /><path d=\"M 9.52 16.8 h 0.84 l 0.7 -2.8 v 2.8 h 0.84 l 0.7 -2.8 v 2.8 h 0.84 v -6.3 h -0.84 l -0.7 2.8 v -2.8 h -0.84 z\" /><path d=\"M 14.84 16.8 h 3.64 v -0.84 h -2.8 v -1.89 h 2.8 v -0.84 h -2.8 v -1.89 h 2.8 v -0.84 h -3.64 z\" /><path d=\"M 19.88 16.8 h 0.84 v -2.66 h 0.98 a 1.82 1.82 0 0 0 0.0 -3.64 h -1.82 z\" /><path d=\"M 23.24 16.8 h 0.84 l 1.96 -4.2 v 4.2 h 0.84 v -6.3 h -0.84 z\" /><path d=\"M 28.28 16.8 m 0.0 -1.82 a 1.82 1.82 0 0 0 1.82 1.82 h 1.82 v -2.66 h -0.84 v 1.82 h -0.98 a 0.98 0.98 0 0 1 -0.98 -0.98 v -2.66 a 0.98 0.98 0 0 1 1.96 0.0 h 0.84 a 1.82 1.82 0 0 0 -3.64 0.0 z\" /><path d=\"M 33.32 16.8 h 3.64 v -0.84 h -2.8 v -1.89 h 2.8 v -0.84 h -2.8 v -1.89 h 2.8 v -0.84 h -3.64 z\" /></g></svg>'"
      ]
     },
     "execution_count": 15,
     "metadata": {},
     "output_type": "execute_result"
    }
   ],
   "source": [
    "dwg.tostring()"
   ]
  },
  {
   "cell_type": "code",
   "execution_count": 16,
   "id": "9b218ada",
   "metadata": {},
   "outputs": [],
   "source": [
    "dwg.save()"
   ]
  }
 ],
 "metadata": {
  "kernelspec": {
   "display_name": "Python 3 (ipykernel)",
   "language": "python",
   "name": "python3"
  },
  "language_info": {
   "codemirror_mode": {
    "name": "ipython",
    "version": 3
   },
   "file_extension": ".py",
   "mimetype": "text/x-python",
   "name": "python",
   "nbconvert_exporter": "python",
   "pygments_lexer": "ipython3",
   "version": "3.10.2"
  }
 },
 "nbformat": 4,
 "nbformat_minor": 5
}
